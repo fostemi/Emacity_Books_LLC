{
 "cells": [
  {
   "cell_type": "code",
   "execution_count": 1,
   "metadata": {
    "scrolled": true
   },
   "outputs": [
    {
     "name": "stdout",
     "output_type": "stream",
     "text": [
      "Downloading https://www.amazon.com/Keto-Reset-Diet-Metabolism-Forever/dp/1524762237/ref=sr_1_1?dchild=1&keywords=1524762237&qid=1618106522&s=books&sr=1-1\n",
      "\n"
     ]
    }
   ],
   "source": [
    "from selectorlib import Extractor\n",
    "import requests \n",
    "import json \n",
    "from time import sleep\n",
    "\n",
    "\n",
    "# Create an Extractor by reading from the YAML file\n",
    "e = Extractor.from_yaml_file('selectors.yml')\n",
    "\n",
    "def scrape(url):    \n",
    "    headers = {\n",
    "        'authority': 'www.amazon.com',\n",
    "        'pragma': 'no-cache',\n",
    "        'cache-control': 'no-cache',\n",
    "        'dnt': '1',\n",
    "        'upgrade-insecure-requests': '1',\n",
    "        'user-agent': 'Mozilla/5.0 (X11; CrOS x86_64 8172.45.0) AppleWebKit/537.36 (KHTML, like Gecko) Chrome/51.0.2704.64 Safari/537.36',\n",
    "        'accept': 'text/html,application/xhtml+xml,application/xml;q=0.9,image/webp,image/apng,*/*;q=0.8,application/signed-exchange;v=b3;q=0.9',\n",
    "        'sec-fetch-site': 'none',\n",
    "        'sec-fetch-mode': 'navigate',\n",
    "        'sec-fetch-dest': 'document',\n",
    "        'accept-language': 'en-GB,en-US;q=0.9,en;q=0.8',\n",
    "    }\n",
    "\n",
    "    # Download the page using requests\n",
    "    print(\"Downloading %s\"%url)\n",
    "    r = requests.get(url, headers=headers)\n",
    "    # Simple check to check if page was blocked (Usually 503)\n",
    "    if r.status_code > 500:\n",
    "        if \"To discuss automated access to Amazon data please contact\" in r.text:\n",
    "            print(\"Page %s was blocked by Amazon. Please try using better proxies\\n\"%url)\n",
    "        else:\n",
    "            print(\"Page %s must have been blocked by Amazon as the status code was %d\"%(url,r.status_code))\n",
    "        return None\n",
    "    # Pass the HTML of the page and create \n",
    "    return e.extract(r.text)\n",
    "\n",
    "with open(\"urls.txt\",'r') as urllist, open('output.jsonl','w') as outfile:\n",
    "    for url in urllist.readlines():\n",
    "        data = scrape(url) \n",
    "        if data:\n",
    "            json.dump(data,outfile)\n",
    "            outfile.write(\"\\n\")\n",
    "            # sleep(5)\n"
   ]
  },
  {
   "cell_type": "code",
   "execution_count": 2,
   "metadata": {},
   "outputs": [
    {
     "name": "stdout",
     "output_type": "stream",
     "text": [
      "Downloading https://www.amazon.com/s?k=1577314808&i=stripbooks&ref=nb_sb_noss\n",
      "Saving Product: The Power of Now, The Dalai Lamas Book of Wisdom, The Art of Happiness 3 Books Collection Set\n",
      "Saving Product: The Power of Now: A Guide to Spiritual Enlightenment\n",
      "Saving Product: The Power of Now A Guide to Spiritual Enlightenment, The Art of Happiness 10th Anniversary Edition, You Are a Badass, Life Leverage 4 Books Collection Set\n",
      "Saving Product: The Art Of Happiness At Work, The Dalai Lamas Book Of Wisdom, The Art Of Happiness 3 Books Collection Set\n",
      "Saving Product: [Eckhart Tolle] The Power of Now: A Guide to Spiritual Enlightenment\n",
      "Saving Product: by Tolle, Eckhart :: The Power of Now: A Guide to Spiritual Enlightenment-Paperback\n",
      "Saving Product: The Power of Now: A Guide to Spiritual Enlightenment - Paperback by Eckhart Tolle\n"
     ]
    }
   ],
   "source": [
    "#Scraping results from the amazon search page\n",
    "# Create an Extractor by reading from the YAML file\n",
    "e = Extractor.from_yaml_file('search_results.yml')\n",
    "\n",
    "def scrape(url):  \n",
    "\n",
    "    headers = {\n",
    "        'dnt': '1',\n",
    "        'upgrade-insecure-requests': '1',\n",
    "        'user-agent': 'Mozilla/5.0 (Macintosh; Intel Mac OS X 10_15_4) AppleWebKit/537.36 (KHTML, like Gecko) Chrome/83.0.4103.61 Safari/537.36',\n",
    "        'accept': 'text/html,application/xhtml+xml,application/xml;q=0.9,image/webp,image/apng,*/*;q=0.8,application/signed-exchange;v=b3;q=0.9',\n",
    "        'sec-fetch-site': 'same-origin',\n",
    "        'sec-fetch-mode': 'navigate',\n",
    "        'sec-fetch-user': '?1',\n",
    "        'sec-fetch-dest': 'document',\n",
    "        'referer': 'https://www.amazon.com/',\n",
    "        'accept-language': 'en-GB,en-US;q=0.9,en;q=0.8',\n",
    "    }\n",
    "\n",
    "    # Download the page using requests\n",
    "    print(\"Downloading %s\"%url)\n",
    "    r = requests.get(url, headers=headers)\n",
    "    # Simple check to check if page was blocked (Usually 503)\n",
    "    if r.status_code > 500:\n",
    "        if \"To discuss automated access to Amazon data please contact\" in r.text:\n",
    "            print(\"Page %s was blocked by Amazon. Please try using better proxies\\n\"%url)\n",
    "        else:\n",
    "            print(\"Page %s must have been blocked by Amazon as the status code was %d\"%(url,r.status_code))\n",
    "        return None\n",
    "    # Pass the HTML of the page and create \n",
    "    return e.extract(r.text)\n",
    "\n",
    "# product_data = []\n",
    "with open(\"search_results_urls.txt\",'r') as urllist, open('search_results_output.jsonl','w') as outfile:\n",
    "    for url in urllist.read().splitlines():\n",
    "        data = scrape(url) \n",
    "        if data:\n",
    "            for product in data['products']:\n",
    "                product['search_url'] = url\n",
    "                print(\"Saving Product: %s\"%product['title'])\n",
    "                json.dump(product,outfile)\n",
    "                outfile.write(\"\\n\")"
   ]
  },
  {
   "cell_type": "code",
   "execution_count": 3,
   "metadata": {},
   "outputs": [
    {
     "name": "stdout",
     "output_type": "stream",
     "text": [
      "['49.99', '8.51\"', '54.99', '55.99', '28.98', '20.60', '19.93']\n"
     ]
    }
   ],
   "source": [
    "price_list = []\n",
    "#json_file = open('search_results_output.jsonl')\n",
    "#print(json_file)\n",
    "with open('search_results_output.jsonl','r') as filelist:\n",
    "    for product in filelist.read().splitlines():\n",
    "        price_idx = product.find(\"price\")\n",
    "        price = product[price_idx+10:price_idx+15]\n",
    "        price_list.append(price)\n",
    "        #print(product.find(\"price\"))\n",
    "        #print(product[])\n",
    "#prices = json.load(json_file)\n",
    "#json_file.close()\n",
    "print(price_list)\n",
    "#print(prices[\"price\"])"
   ]
  },
  {
   "cell_type": "code",
   "execution_count": 4,
   "metadata": {},
   "outputs": [
    {
     "ename": "NameError",
     "evalue": "name 'price_2' is not defined",
     "output_type": "error",
     "traceback": [
      "\u001b[0;31m---------------------------------------------------------------------------\u001b[0m",
      "\u001b[0;31mNameError\u001b[0m                                 Traceback (most recent call last)",
      "\u001b[0;32m<ipython-input-4-68778a5f8cb1>\u001b[0m in \u001b[0;36m<module>\u001b[0;34m\u001b[0m\n\u001b[1;32m      5\u001b[0m     \u001b[0mprice_1\u001b[0m \u001b[0;34m=\u001b[0m \u001b[0mfloat\u001b[0m\u001b[0;34m(\u001b[0m\u001b[0mprice_list\u001b[0m\u001b[0;34m[\u001b[0m\u001b[0;36m0\u001b[0m\u001b[0;34m]\u001b[0m\u001b[0;34m)\u001b[0m\u001b[0;34m\u001b[0m\u001b[0;34m\u001b[0m\u001b[0m\n\u001b[1;32m      6\u001b[0m \u001b[0;31m#price_1 = float(price_list[0])\u001b[0m\u001b[0;34m\u001b[0m\u001b[0;34m\u001b[0m\u001b[0;34m\u001b[0m\u001b[0m\n\u001b[0;32m----> 7\u001b[0;31m \u001b[0mprint\u001b[0m\u001b[0;34m(\u001b[0m\u001b[0mprice_1\u001b[0m\u001b[0;34m,\u001b[0m\u001b[0mprice_2\u001b[0m\u001b[0;34m)\u001b[0m\u001b[0;34m\u001b[0m\u001b[0;34m\u001b[0m\u001b[0m\n\u001b[0m",
      "\u001b[0;31mNameError\u001b[0m: name 'price_2' is not defined"
     ]
    }
   ],
   "source": [
    "if '\"' in price_list[0]:\n",
    "    price_str = price_list[0]\n",
    "    price_1 = float(price_str[0:4])\n",
    "else:\n",
    "    price_1 = float(price_list[0])\n",
    "#price_1 = float(price_list[0])\n",
    "print(price_1,price_2)"
   ]
  },
  {
   "cell_type": "code",
   "execution_count": 26,
   "metadata": {
    "scrolled": false
   },
   "outputs": [
    {
     "name": "stdout",
     "output_type": "stream",
     "text": [
      "Downloading https://www.amazon.com/s?k=078681988X&i=stripbooks&ref=nb_sb_noss\n",
      "Saving Product: Don't Let the Pigeon Drive the Bus!\n",
      "Saving Product: Don't Let the Pigeon Drive the Bus\n"
     ]
    },
    {
     "data": {
      "text/plain": [
       "11.2"
      ]
     },
     "execution_count": 26,
     "metadata": {},
     "output_type": "execute_result"
    }
   ],
   "source": [
    "def get_price(isbn):\n",
    "    \n",
    "    i = 0\n",
    "    price_list = []\n",
    "    \n",
    "    with open('search_results_output.jsonl','w') as outfile:\n",
    "        #search = str(isbn)\n",
    "        search = isbn\n",
    "        data = scrape('https://www.amazon.com/s?k=' + search + '&i=stripbooks&ref=nb_sb_noss') \n",
    "        if data:\n",
    "            for product in data['products']:\n",
    "                product['search_url'] = url\n",
    "                print(\"Saving Product: %s\"%product['title'])\n",
    "                json.dump(product,outfile)\n",
    "                outfile.write(\"\\n\")\n",
    "    with open('search_results_output.jsonl','r') as filelist:\n",
    "        for product in filelist.read().splitlines():\n",
    "            price_idx = product.find(\"price\")\n",
    "            price = product[price_idx+10:price_idx+14]\n",
    "            price_list.append(price)\n",
    "            \n",
    "            \n",
    "    price_1 = float(price_list[0])\n",
    "    return(price_1)\n",
    "    \n",
    "    \n",
    "get_price('078681988X')"
   ]
  },
  {
   "cell_type": "code",
   "execution_count": null,
   "metadata": {},
   "outputs": [],
   "source": [
    "run isbn_price.py"
   ]
  },
  {
   "cell_type": "code",
   "execution_count": 28,
   "metadata": {},
   "outputs": [
    {
     "name": "stdout",
     "output_type": "stream",
     "text": [
      "9780345472328\n",
      "Downloading https://www.amazon.com/s?k=9780345472328&i=stripbooks&ref=nb_sb_noss\n",
      "39.6\n"
     ]
    },
    {
     "data": {
      "text/plain": [
       "39.6"
      ]
     },
     "execution_count": 28,
     "metadata": {},
     "output_type": "execute_result"
    }
   ],
   "source": [
    "import isbn_price\n",
    "isbn_price.get_price(9780345472328)"
   ]
  }
 ],
 "metadata": {
  "kernelspec": {
   "display_name": "Python 3",
   "language": "python",
   "name": "python3"
  },
  "language_info": {
   "codemirror_mode": {
    "name": "ipython",
    "version": 3
   },
   "file_extension": ".py",
   "mimetype": "text/x-python",
   "name": "python",
   "nbconvert_exporter": "python",
   "pygments_lexer": "ipython3",
   "version": "3.7.3"
  }
 },
 "nbformat": 4,
 "nbformat_minor": 2
}
